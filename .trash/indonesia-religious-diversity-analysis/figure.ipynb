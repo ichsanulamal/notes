{
 "cells": [
  {
   "cell_type": "code",
   "execution_count": null,
   "metadata": {},
   "outputs": [],
   "source": []
  },
  {
   "cell_type": "code",
   "execution_count": null,
   "metadata": {},
   "outputs": [],
   "source": [
    "# Import Module\n",
    "from bs4 import *\n",
    "import requests\n",
    "\n",
    "# Given URL\n",
    "url = \"https://id.wikipedia.org/wiki/Daftar_tokoh_agama_Indonesia\"\n",
    "\n",
    "# Fetch URL Content\n",
    "r = requests.get(url)\n",
    "\n",
    "# Get body content\n",
    "soup = BeautifulSoup(r.text,'html.parser').select('body')[0]\n",
    "\n",
    "# Initialize variable\n",
    "paragraphs = []\n",
    "images = []\n",
    "link = []\n",
    "heading = []\n",
    "remaining_content = []\n",
    "\n",
    "# Iterate through all tags\n",
    "for tag in soup.find_all():\n",
    "\t\n",
    "\t# Check each tag name\n",
    "\t# For Paragraph use p tag\n",
    "\tif tag.name==\"p\":\n",
    "\t\n",
    "\t\t# use text for fetch the content inside p tag\n",
    "\t\tparagraphs.append(tag.text)\n",
    "\t\t\n",
    "\t# For Image use img tag\n",
    "\telif tag.name==\"img\":\n",
    "\t\n",
    "\t\t# Add url and Image source URL\n",
    "\t\timages.append(url+tag['src'])\n",
    "\t\t\n",
    "\t# For Anchor use a tag\n",
    "\telif tag.name==\"a\":\n",
    "\t\n",
    "\t\t# convert into string and then check href\n",
    "\t\t# available in tag or not\n",
    "\t\tif \"href\" in str(tag):\n",
    "\t\t\n",
    "\t\t# In href, there might be possible url is not there\n",
    "\t\t# if url is not there\n",
    "\t\t\tif \"https://en.wikipedia.org/w/\" not in str(tag['href']):\n",
    "\t\t\t\tlink.append(url+tag['href'])\n",
    "\t\t\telse:\n",
    "\t\t\t\tlink.append(tag['href'])\n",
    "\t\t\t\t\n",
    "\t# Similarly check for heading\n",
    "\t# Six types of heading are there (H1, H2, H3, H4, H5, H6)\n",
    "\t# check each ta g and fetch text\n",
    "\telif \"h\" in tag.name:\n",
    "\t\tif \"h1\"==tag.name:\n",
    "\t\t\theading.append(tag.text)\n",
    "\t\telif \"h2\"==tag.name:\n",
    "\t\t\theading.append(tag.text)\n",
    "\t\telif \"h3\"==tag.name:\n",
    "\t\t\theading.append(tag.text)\n",
    "\t\telif \"h4\"==tag.name:\n",
    "\t\t\theading.append(tag.text)\n",
    "\t\telif \"h5\"==tag.name:\n",
    "\t\t\theading.append(tag.text)\n",
    "\t\telse:\n",
    "\t\t\theading.append(tag.text)\n",
    "\t\t\t\n",
    "\t# Remain content will store here\n",
    "\telse:\n",
    "\t\tremaining_content.append(tag.text)\n",
    "\t\t\n",
    "# print(paragraphs, images, link, heading, remaining_content)\n",
    "\n",
    "for l in link:\n",
    "    if 'Daftar_tokoh_agama_Indonesia/wiki/' in l:\n",
    "        print(l)"
   ]
  },
  {
   "cell_type": "code",
   "execution_count": null,
   "metadata": {},
   "outputs": [],
   "source": [
    "for l in link:\n",
    "    if 'Tokoh_' in l:\n",
    "        print(l)"
   ]
  },
  {
   "cell_type": "code",
   "execution_count": null,
   "metadata": {},
   "outputs": [],
   "source": [
    "import wikipedia\n"
   ]
  },
  {
   "cell_type": "code",
   "execution_count": null,
   "metadata": {},
   "outputs": [],
   "source": [
    "wikipedia.set_lang(\"id\")"
   ]
  },
  {
   "cell_type": "code",
   "execution_count": null,
   "metadata": {},
   "outputs": [],
   "source": [
    "tii = wikipedia.page(title=\"Amien Rais\")\n",
    "\n",
    "tii.content"
   ]
  }
 ],
 "metadata": {
  "kernelspec": {
   "display_name": "venv",
   "language": "python",
   "name": "python3"
  },
  "language_info": {
   "codemirror_mode": {
    "name": "ipython",
    "version": 3
   },
   "file_extension": ".py",
   "mimetype": "text/x-python",
   "name": "python",
   "nbconvert_exporter": "python",
   "pygments_lexer": "ipython3",
   "version": "3.11.3"
  }
 },
 "nbformat": 4,
 "nbformat_minor": 2
}
